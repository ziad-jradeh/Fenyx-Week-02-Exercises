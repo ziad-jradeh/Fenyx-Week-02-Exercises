{
 "cells": [
  {
   "cell_type": "markdown",
   "metadata": {},
   "source": [
    "# Week 02 Exercises:"
   ]
  },
  {
   "cell_type": "markdown",
   "metadata": {},
   "source": [
    "## if-else Statement:"
   ]
  },
  {
   "cell_type": "markdown",
   "metadata": {},
   "source": [
    "### Exercise 01:\n",
    "Write a python program that takes an integer number from the user, and checks if it's even or odd.\n",
    "\n",
    "Note: A number is even if it's divisible by 2, to check that use the modulus (remainder) operator '%'."
   ]
  },
  {
   "cell_type": "code",
   "execution_count": null,
   "metadata": {},
   "outputs": [],
   "source": [
    "# write your code here"
   ]
  },
  {
   "cell_type": "markdown",
   "metadata": {},
   "source": [
    "### Exercise 02:\n",
    "Write a python program that checks if the user has entered a letter from the alphabet. A list of lowercase letters is provided. Make sure to check for both lowercase and uppercase letters by only using the provided list. If it's a letter, then also check if the letter is a vowel or not.\n",
    "\n",
    "The output should look something like this:\n",
    "\n",
    "Please enter a letter: Y <br>\n",
    "It is a letter. <br>\n",
    "It is not a vowel. <br>\n",
    "\n",
    "Please enter a letter: 6 <br>\n",
    "It is not a letter."
   ]
  },
  {
   "cell_type": "code",
   "execution_count": null,
   "metadata": {},
   "outputs": [],
   "source": [
    "letters = ['a', 'b', 'c', 'd', 'e', 'f', 'g', 'h', 'i', 'j', 'k', 'l', 'm', 'n', 'o', 'p', 'q', 'r', 's', 't', 'u', 'v', 'w', 'x', 'y', 'z']\n",
    "\n",
    "# write your code here"
   ]
  },
  {
   "cell_type": "markdown",
   "metadata": {},
   "source": [
    "### Exercise 03:\n",
    "Write a python program to show how much a train passenger should pay based on their age.\n",
    "\n",
    "age 0 - 11: the trip is free <br>\n",
    "age 12 - 17: You only pay 40% <br>\n",
    "age 18 - 59: You pay full price <br>\n",
    "age 60+: You only pay 60%"
   ]
  },
  {
   "cell_type": "code",
   "execution_count": null,
   "metadata": {},
   "outputs": [],
   "source": [
    "# write your code here"
   ]
  },
  {
   "cell_type": "markdown",
   "metadata": {},
   "source": [
    "### Exercise 04:\n",
    "\n",
    "Write a python program that asks the user for the username and password. Check them with the saved username and password, and display a message accordingly.\n",
    "\n",
    "Note: the username is not case sensitive but the password is case sensitive."
   ]
  },
  {
   "cell_type": "code",
   "execution_count": null,
   "metadata": {},
   "outputs": [],
   "source": [
    "saved_username = 'Fenyx'\n",
    "saved_password = 'EasyPassword'\n",
    "\n",
    "# write your code here"
   ]
  },
  {
   "cell_type": "markdown",
   "metadata": {},
   "source": [
    "## Loops:"
   ]
  },
  {
   "cell_type": "markdown",
   "metadata": {},
   "source": [
    "### Exercise 05:\n",
    "Write a python program that askes the user to input an ineger number, then calculate the factorial of that number using a for loop.\n",
    "\n",
    "Note: the factorial of n is: <br>\n",
    "n! = n * (n - 1) * (n - 2) * .... * 2 * 1 <br>\n",
    "for example: 5! = 5 * 4 * 3 * 2 * 1 = 120"
   ]
  },
  {
   "cell_type": "code",
   "execution_count": null,
   "metadata": {},
   "outputs": [],
   "source": [
    "# write your code here"
   ]
  },
  {
   "cell_type": "markdown",
   "metadata": {},
   "source": [
    "### Exercise 06:\n",
    "Write the same program from exercise 05, but using a while loop."
   ]
  },
  {
   "cell_type": "code",
   "execution_count": null,
   "metadata": {},
   "outputs": [],
   "source": [
    "# write your code here"
   ]
  },
  {
   "cell_type": "markdown",
   "metadata": {},
   "source": [
    "### Exercise 07:\n",
    "Write a python program that askes the user to make a new username under those rules: <br>\n",
    "1. must be longer than 6 characters\n",
    "2. must not be longer than 16 characters\n",
    "3. must not have - or #\n",
    "4. must not start with a number\n",
    "\n",
    "If the username breaks one of those rules, display a message indicating exactly which rule is broken, then keep asking the user to enter a valid username until they enter a username that doesn't break any of the rules.\n",
    "\n",
    "When the usename is valid, print a welcoming message and end the program."
   ]
  },
  {
   "cell_type": "code",
   "execution_count": null,
   "metadata": {},
   "outputs": [],
   "source": [
    "# write your code here"
   ]
  },
  {
   "cell_type": "markdown",
   "metadata": {},
   "source": [
    "### Exercise 08:\n",
    "Ask the user to inter an integer number, then check if that number is a prime number or not.\n",
    "\n",
    "Note: A prime number is a number that can only be divided by itself and 1 without remainders."
   ]
  },
  {
   "cell_type": "code",
   "execution_count": null,
   "metadata": {},
   "outputs": [],
   "source": [
    "# write your code here"
   ]
  },
  {
   "cell_type": "markdown",
   "metadata": {},
   "source": [
    "### Exercise 09:\n",
    "You have a list of numbers, check if each number of the list is prime or not by usung loops.\n",
    "\n",
    "The output should look like this: <br>\n",
    "11 is a prime number! <br>\n",
    "14 is not a prime number! <br>\n",
    "17 is a prime number! <br>\n",
    "25 is not a prime number!"
   ]
  },
  {
   "cell_type": "code",
   "execution_count": null,
   "metadata": {},
   "outputs": [],
   "source": [
    "numbers = [11, 14, 17, 25]\n",
    "\n",
    "# write your code here"
   ]
  }
 ],
 "metadata": {
  "kernelspec": {
   "display_name": "Python 3",
   "language": "python",
   "name": "python3"
  },
  "language_info": {
   "codemirror_mode": {
    "name": "ipython",
    "version": 3
   },
   "file_extension": ".py",
   "mimetype": "text/x-python",
   "name": "python",
   "nbconvert_exporter": "python",
   "pygments_lexer": "ipython3",
   "version": "3.11.3"
  }
 },
 "nbformat": 4,
 "nbformat_minor": 2
}
